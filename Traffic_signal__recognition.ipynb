{
 "cells": [
  {
   "cell_type": "markdown",
   "id": "ac80fc24-6821-4d19-93a8-a24f1fe80c60",
   "metadata": {},
   "source": [
    "**IMPORT REQUIRED LIBRARY**"
   ]
  },
  {
   "cell_type": "code",
   "execution_count": 29,
   "id": "c771a5fb-992f-48ef-b805-f8c3c6c53b80",
   "metadata": {},
   "outputs": [],
   "source": [
    "import numpy as np \n",
    "import pandas as pd \n",
    "import matplotlib.pyplot as plt\n",
    "import cv2\n",
    "import tensorflow as tf\n",
    "from PIL import Image\n",
    "import zipfile\n",
    "import os\n",
    "\n",
    "# Define paths\n",
    "zip_file_path = 'D:\\\\TRAFFIC_SIGN_RECOGNITION.zip'\n",
    "extract_to_directory = 'D:\\\\TRAFFIC_SIGN_RECOGNITION'\n",
    "\n",
    "# Extract ZIP file\n",
    "os.makedirs(extract_to_directory, exist_ok=True)\n",
    "with zipfile.ZipFile(zip_file_path, 'r') as zip_ref:\n",
    "    zip_ref.extractall(extract_to_directory)\n",
    "\n",
    "# Change directory to the extracted folder\n",
    "os.chdir(extract_to_directory)\n",
    "\n",
    "\n",
    "from sklearn.model_selection import train_test_split\n",
    "from keras.utils import to_categorical\n",
    "from keras.models import Sequential, load_model\n",
    "from keras.layers import Conv2D, MaxPool2D, Dense, Flatten, Dropout"
   ]
  },
  {
   "cell_type": "markdown",
   "id": "ec3273b8-a4a9-4dde-95e1-8fc1cdee134d",
   "metadata": {},
   "source": [
    "**Store data, labels in the list**"
   ]
  },
  {
   "cell_type": "code",
   "execution_count": 30,
   "id": "ae8b7805-d4c8-45be-ab12-bcf60ae2d7e0",
   "metadata": {},
   "outputs": [],
   "source": [
    "data = []\n",
    "labels = []\n",
    "# We have 43 Classes\n",
    "classes = 43\n",
    "cur_path = os.getcwd()"
   ]
  },
  {
   "cell_type": "code",
   "execution_count": 31,
   "id": "56aade8b-7fe4-486c-8ac4-950dfdb81205",
   "metadata": {},
   "outputs": [
    {
     "data": {
      "text/plain": [
       "'D:\\\\TRAFFIC_SIGN_RECOGNITION'"
      ]
     },
     "execution_count": 31,
     "metadata": {},
     "output_type": "execute_result"
    }
   ],
   "source": [
    "cur_path"
   ]
  },
  {
   "cell_type": "markdown",
   "id": "5b7c5a2e-7d81-4ae9-82b2-fcda0cbef516",
   "metadata": {},
   "source": [
    "**Preprocess the images**"
   ]
  },
  {
   "cell_type": "code",
   "execution_count": 32,
   "id": "c9c28a4f-0e13-401f-b68a-d18fd6a5c31a",
   "metadata": {},
   "outputs": [],
   "source": [
    "for i in range(classes):\n",
    "    path = os.path.join(cur_path,'train',str(i))\n",
    "    images = os.listdir(path)\n",
    "    for a in images:\n",
    "        try:\n",
    "            image = Image.open(path + '\\\\'+ a)\n",
    "            image = image.resize((30,30))\n",
    "            image = np.array(image)\n",
    "            data.append(image)\n",
    "            labels.append(i)\n",
    "        except Exception as e:\n",
    "            print(e)"
   ]
  },
  {
   "cell_type": "markdown",
   "id": "0990e8c8-0866-485a-bdcf-64e9a3060528",
   "metadata": {},
   "source": [
    "**Converting lists into numpy arrays**"
   ]
  },
  {
   "cell_type": "code",
   "execution_count": 33,
   "id": "0f3f72f7-a6c4-4c5a-861a-055bf3703608",
   "metadata": {},
   "outputs": [],
   "source": [
    "data = np.array(data)\n",
    "labels = np.array(labels)"
   ]
  },
  {
   "cell_type": "markdown",
   "id": "a722d496-0d7c-4eb8-9372-22c0eb861411",
   "metadata": {},
   "source": [
    "**Save Labels & Data for future use**"
   ]
  },
  {
   "cell_type": "code",
   "execution_count": 34,
   "id": "6e5e02e7-aa4a-4fe2-acd9-47ae45819a62",
   "metadata": {},
   "outputs": [],
   "source": [
    "# Define the directory path\n",
    "directory_path = './training'\n",
    "\n",
    "# Create the directory if it does not exist\n",
    "os.makedirs(directory_path, exist_ok=True)\n",
    "\n",
    "# Assuming `data` and `labels` are your numpy arrays\n",
    "np.save(os.path.join(directory_path, 'data.npy'), data)\n",
    "np.save(os.path.join(directory_path, 'target.npy'), labels)"
   ]
  },
  {
   "cell_type": "markdown",
   "id": "94a84bb8-463d-476b-b57b-bc8f9cb691b2",
   "metadata": {},
   "source": [
    "**Load data & Labels**"
   ]
  },
  {
   "cell_type": "code",
   "execution_count": 35,
   "id": "dfed13a3-2b8a-470c-b5f5-7460bb66a8c2",
   "metadata": {},
   "outputs": [],
   "source": [
    "data=np.load('./training/data.npy')\n",
    "labels=np.load('./training/target.npy')"
   ]
  },
  {
   "cell_type": "code",
   "execution_count": 36,
   "id": "5b45bc44-c8db-4235-ba2a-526706f9e207",
   "metadata": {},
   "outputs": [
    {
     "name": "stdout",
     "output_type": "stream",
     "text": [
      "(39209, 30, 30, 3) (39209,)\n"
     ]
    }
   ],
   "source": [
    "print(data.shape, labels.shape)"
   ]
  },
  {
   "cell_type": "code",
   "execution_count": 37,
   "id": "b9d28c21-3464-4012-88cd-24694d9621c6",
   "metadata": {},
   "outputs": [],
   "source": [
    "X_train, X_test, y_train, y_test = train_test_split(data, labels, test_size=0.2, random_state=0)"
   ]
  },
  {
   "cell_type": "code",
   "execution_count": 38,
   "id": "02bd7635-3bad-4b20-ae9f-c6d0b0bdcf14",
   "metadata": {},
   "outputs": [
    {
     "name": "stdout",
     "output_type": "stream",
     "text": [
      "(31367, 30, 30, 3) (7842, 30, 30, 3) (31367,) (7842,)\n"
     ]
    }
   ],
   "source": [
    "print(X_train.shape, X_test.shape, y_train.shape, y_test.shape)"
   ]
  },
  {
   "cell_type": "markdown",
   "id": "bd41083a-c337-44a5-8384-9738dadda91b",
   "metadata": {},
   "source": [
    "**Convert labels to onehot encoding**"
   ]
  },
  {
   "cell_type": "code",
   "execution_count": 39,
   "id": "233dd251-4c65-4bf0-be05-c84dfffe2c01",
   "metadata": {},
   "outputs": [],
   "source": [
    "y_train = to_categorical(y_train, 43)\n",
    "y_test = to_categorical(y_test, 43)"
   ]
  },
  {
   "cell_type": "markdown",
   "id": "161a2cc2-dac6-4721-97a5-97dfd8a15d00",
   "metadata": {},
   "source": [
    "**Build the model**"
   ]
  },
  {
   "cell_type": "code",
   "execution_count": 40,
   "id": "8be29daa-d28b-4a5a-a1dc-fd444eec509c",
   "metadata": {},
   "outputs": [],
   "source": [
    "model = Sequential()\n",
    "model.add(Conv2D(filters=32, kernel_size=(5,5), activation='relu', input_shape=X_train.shape[1:]))\n",
    "model.add(Conv2D(filters=32, kernel_size=(5,5), activation='relu'))\n",
    "model.add(MaxPool2D(pool_size=(2, 2)))\n",
    "model.add(Dropout(rate=0.25))\n",
    "model.add(Conv2D(filters=64, kernel_size=(3, 3), activation='relu'))\n",
    "model.add(Conv2D(filters=64, kernel_size=(3, 3), activation='relu'))\n",
    "model.add(MaxPool2D(pool_size=(2, 2)))\n",
    "model.add(Dropout(rate=0.25))\n",
    "model.add(Flatten())\n",
    "model.add(Dense(256, activation='relu'))\n",
    "model.add(Dropout(rate=0.5))\n",
    "# We have 43 classes that's why we have defined 43 in the dense\n",
    "model.add(Dense(43, activation='softmax'))"
   ]
  },
  {
   "cell_type": "code",
   "execution_count": 41,
   "id": "7b1d6624-b97b-408b-9977-0bbf371bbf04",
   "metadata": {},
   "outputs": [],
   "source": [
    "#Compilation of the model\n",
    "model.compile(loss='categorical_crossentropy', optimizer='adam', metrics=['accuracy'])"
   ]
  },
  {
   "cell_type": "code",
   "execution_count": null,
   "id": "df5d9878-5c88-4801-b01b-738e20ad52ce",
   "metadata": {},
   "outputs": [
    {
     "name": "stdout",
     "output_type": "stream",
     "text": [
      "Epoch 1/20\n",
      "981/981 [==============================] - 88s 86ms/step - loss: 3.6075 - accuracy: 0.0541 - val_loss: 3.4924 - val_accuracy: 0.0575\n",
      "Epoch 2/20\n",
      "327/981 [=========>....................] - ETA: 58s - loss: 3.5050 - accuracy: 0.0540"
     ]
    }
   ],
   "source": [
    "epochs = 20\n",
    "history = model.fit(X_train, y_train, batch_size=32, epochs=epochs, validation_data=(X_test, y_test))"
   ]
  },
  {
   "cell_type": "code",
   "execution_count": 28,
   "id": "2bb0c696-4689-4ad1-a163-b5e4fb640b1d",
   "metadata": {},
   "outputs": [
    {
     "data": {
      "image/png": "[encoded data removed]",
      "text/plain": [
       "<Figure size 640x480 with 1 Axes>"
      ]
     },
     "metadata": {},
     "output_type": "display_data"
    }
   ],
   "source": [
    "# accuracy \n",
    "plt.figure(0)\n",
    "plt.plot(history.history['accuracy'], label='training accuracy')\n",
    "plt.plot(history.history['val_accuracy'], label='val accuracy')\n",
    "plt.title('Accuracy')\n",
    "plt.xlabel('epochs')\n",
    "plt.ylabel('accuracy')\n",
    "plt.legend()\n",
    "plt.show()"
   ]
  },
  {
   "cell_type": "code",
   "execution_count": 16,
   "id": "1dacd715-952c-451b-a0db-10d82fe8b67e",
   "metadata": {},
   "outputs": [
    {
     "data": {
      "image/png": "[encoded data removed]",
      "text/plain": [
       "<Figure size 640x480 with 1 Axes>"
      ]
     },
     "metadata": {},
     "output_type": "display_data"
    }
   ],
   "source": [
    "# Loss\n",
    "plt.plot(history.history['loss'], label='training loss')\n",
    "plt.plot(history.history['val_loss'], label='val loss')\n",
    "plt.title('Loss')\n",
    "plt.xlabel('epochs')\n",
    "plt.ylabel('loss')\n",
    "plt.legend()\n",
    "plt.show()"
   ]
  },
  {
   "cell_type": "markdown",
   "id": "d8b38ddd-b2c5-45d1-a9b9-fc573be744e7",
   "metadata": {},
   "source": [
    "**Testing on Test data**"
   ]
  },
  {
   "cell_type": "code",
   "execution_count": 17,
   "id": "468b91ac-2a6c-4949-b554-d12eb9179e59",
   "metadata": {},
   "outputs": [],
   "source": [
    "def testing(testcsv):\n",
    "    y_test = pd.read_csv(testcsv)\n",
    "    label = y_test[\"ClassId\"].values\n",
    "    imgs = y_test[\"Path\"].values\n",
    "    data=[]\n",
    "    for img in imgs:\n",
    "        image = Image.open(img)\n",
    "        image = image.resize((30,30))\n",
    "        data.append(np.array(image))\n",
    "    X_test=np.array(data)\n",
    "    return X_test,label"
   ]
  },
  {
   "cell_type": "code",
   "execution_count": 18,
   "id": "6df73329-ed15-405f-ae3d-f91508d9134e",
   "metadata": {},
   "outputs": [],
   "source": [
    "X_test, label = testing('Test.csv')"
   ]
  },
  {
   "cell_type": "code",
   "execution_count": 19,
   "id": "b8e7a467-1e5f-4219-b76c-70d74bcce1fb",
   "metadata": {},
   "outputs": [
    {
     "name": "stdout",
     "output_type": "stream",
     "text": [
      "395/395 [==============================] - 8s 20ms/step\n"
     ]
    },
    {
     "data": {
      "text/plain": [
       "array([2, 2, 2, ..., 2, 2, 2], dtype=int64)"
      ]
     },
     "execution_count": 19,
     "metadata": {},
     "output_type": "execute_result"
    }
   ],
   "source": [
    "# Get the probabilities for each class\n",
    "probabilities = model.predict(X_test)\n",
    "\n",
    "# Convert probabilities to class labels\n",
    "Y_pred = np.argmax(probabilities, axis=1)\n",
    "\n",
    "# Display the predicted class labels\n",
    "Y_pred"
   ]
  },
  {
   "cell_type": "markdown",
   "id": "0efb19c6-0411-4f38-977e-d9818a2cd1d8",
   "metadata": {},
   "source": [
    "**Accuracy with the test data**"
   ]
  },
  {
   "cell_type": "code",
   "execution_count": 20,
   "id": "c519e2b9-e332-4b47-9197-e8a95b5cafeb",
   "metadata": {},
   "outputs": [
    {
     "name": "stdout",
     "output_type": "stream",
     "text": [
      "0.05938242280285035\n"
     ]
    }
   ],
   "source": [
    "from sklearn.metrics import accuracy_score\n",
    "print(accuracy_score(label, Y_pred))"
   ]
  },
  {
   "cell_type": "markdown",
   "id": "8443de6b-d319-4114-9a14-46b9673617f9",
   "metadata": {},
   "source": [
    "**Save the Model**"
   ]
  },
  {
   "cell_type": "code",
   "execution_count": 21,
   "id": "8e148fec-968d-4a6b-859a-9c16b037eba5",
   "metadata": {},
   "outputs": [],
   "source": [
    "model.save(\"./training/TSR.h5\")"
   ]
  },
  {
   "cell_type": "markdown",
   "id": "175eb86c-85ad-4765-b4c0-6293567386b8",
   "metadata": {},
   "source": [
    "**Load the Model**"
   ]
  },
  {
   "cell_type": "code",
   "execution_count": 22,
   "id": "a1cc730b-3356-4fa0-aa68-1d4b8f04560f",
   "metadata": {},
   "outputs": [],
   "source": [
    "import os\n",
    "os.chdir(r'D:\\Traffic_Sign_Recognition')\n",
    "from keras.models import load_model\n",
    "model = load_model('./training/TSR.h5')"
   ]
  },
  {
   "cell_type": "code",
   "execution_count": 23,
   "id": "99e1583e-9a65-4bb0-adab-e3eeda02b75f",
   "metadata": {},
   "outputs": [],
   "source": [
    "# Classes of trafic signs\n",
    "classes = { 0:'Speed limit (20km/h)',\n",
    "            1:'Speed limit (30km/h)', \n",
    "            2:'Speed limit (50km/h)', \n",
    "            3:'Speed limit (60km/h)', \n",
    "            4:'Speed limit (70km/h)', \n",
    "            5:'Speed limit (80km/h)', \n",
    "            6:'End of speed limit (80km/h)', \n",
    "            7:'Speed limit (100km/h)', \n",
    "            8:'Speed limit (120km/h)', \n",
    "            9:'No passing', \n",
    "            10:'No passing veh over 3.5 tons', \n",
    "            11:'Right-of-way at intersection', \n",
    "            12:'Priority road', \n",
    "            13:'Yield', \n",
    "            14:'Stop', \n",
    "            15:'No vehicles', \n",
    "            16:'Veh > 3.5 tons prohibited', \n",
    "            17:'No entry', \n",
    "            18:'General caution', \n",
    "            19:'Dangerous curve left', \n",
    "            20:'Dangerous curve right', \n",
    "            21:'Double curve', \n",
    "            22:'Bumpy road', \n",
    "            23:'Slippery road', \n",
    "            24:'Road narrows on the right', \n",
    "            25:'Road work', \n",
    "            26:'Traffic signals', \n",
    "            27:'Pedestrians', \n",
    "            28:'Children crossing', \n",
    "            29:'Bicycles crossing', \n",
    "            30:'Beware of ice/snow',\n",
    "            31:'Wild animals crossing', \n",
    "            32:'End speed + passing limits', \n",
    "            33:'Turn right ahead', \n",
    "            34:'Turn left ahead', \n",
    "            35:'Ahead only', \n",
    "            36:'Go straight or right', \n",
    "            37:'Go straight or left', \n",
    "            38:'Keep right', \n",
    "            39:'Keep left', \n",
    "            40:'Roundabout mandatory', \n",
    "            41:'End of no passing', \n",
    "            42:'End no passing veh > 3.5 tons' }"
   ]
  },
  {
   "cell_type": "code",
   "execution_count": 24,
   "id": "f7d4dc5a-d32c-4d99-948a-88bee26fda49",
   "metadata": {},
   "outputs": [
    {
     "name": "stdout",
     "output_type": "stream",
     "text": [
      "1/1 [==============================] - 0s 327ms/step\n",
      "Predicted traffic sign is:  Speed limit (50km/h)\n"
     ]
    },
    {
     "data": {
      "image/png": "[encoded data removed]",
      "text/plain": [
       "<Figure size 640x480 with 1 Axes>"
      ]
     },
     "metadata": {},
     "output_type": "display_data"
    }
   ],
   "source": [
    "from PIL import Image\n",
    "import numpy as np\n",
    "import matplotlib.pyplot as plt\n",
    "from tensorflow.keras.preprocessing.image import img_to_array\n",
    "\n",
    "def test_on_img(img_path):\n",
    "    # Open and preprocess the image\n",
    "    image = Image.open(img_path)\n",
    "    image = image.resize((30, 30))  # Resize to match model input\n",
    "    image_array = img_to_array(image)  # Convert to numpy array\n",
    "    image_array = np.expand_dims(image_array, axis=0)  # Add batch dimension\n",
    "    \n",
    "    # Predict using the model\n",
    "    probabilities = model.predict(image_array)\n",
    "    Y_pred = np.argmax(probabilities, axis=1)  # Get the index of the highest probability\n",
    "    \n",
    "    return image, Y_pred[0]\n",
    "\n",
    "# Path to the image\n",
    "img_path = r'D:\\Traffic_Sign_Recognition\\Test\\00500.png'\n",
    "plot, prediction = test_on_img(img_path)\n",
    "\n",
    "# Map the prediction to the class label\n",
    "print(\"Predicted traffic sign is: \", classes[prediction])\n",
    "\n",
    "# Display the image\n",
    "plt.imshow(plot)\n",
    "plt.show()\n"
   ]
  },
  {
   "cell_type": "code",
   "execution_count": null,
   "id": "d208d3d7-40a5-4460-9123-b617d292a97c",
   "metadata": {},
   "outputs": [],
   "source": []
  }
 ],
 "metadata": {
  "kernelspec": {
   "display_name": "Python 3 (ipykernel)",
   "language": "python",
   "name": "python3"
  },
  "language_info": {
   "codemirror_mode": {
    "name": "ipython",
    "version": 3
   },
   "file_extension": ".py",
   "mimetype": "text/x-python",
   "name": "python",
   "nbconvert_exporter": "python",
   "pygments_lexer": "ipython3",
   "version": "3.9.18"
  }
 },
 "nbformat": 4,
 "nbformat_minor": 5
}
