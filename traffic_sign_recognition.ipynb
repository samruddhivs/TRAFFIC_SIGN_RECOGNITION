{
 "cells": [
  {
   "cell_type": "markdown",
   "id": "f093b9c2-c693-4193-a316-7a03b6e9a22c",
   "metadata": {},
   "source": [
    "# **Import Required libraries**"
   ]
  },
  {
   "cell_type": "code",
   "execution_count": 1,
   "id": "957c18a3-3f45-4857-9b66-c65bf43ad53f",
   "metadata": {},
   "outputs": [],
   "source": [
    "import numpy as np \n",
    "import pandas as pd \n",
    "import matplotlib.pyplot as plt\n",
    "import cv2\n",
    "import tensorflow as tf\n",
    "from PIL import Image\n",
    "import zipfile\n",
    "import os\n",
    "\n",
    "# Define paths\n",
    "zip_file_path = 'D:\\\\TRAFFIC_SIGN_RECOGNITION.zip'\n",
    "extract_to_directory = 'D:\\\\TRAFFIC_SIGN_RECOGNITION'\n",
    "\n",
    "# Extract ZIP file\n",
    "os.makedirs(extract_to_directory, exist_ok=True)\n",
    "with zipfile.ZipFile(zip_file_path, 'r') as zip_ref:\n",
    "    zip_ref.extractall(extract_to_directory)\n",
    "\n",
    "# Change directory to the extracted folder\n",
    "os.chdir(extract_to_directory)\n",
    "\n",
    "# Now you can continue with your code\n",
    "from sklearn.model_selection import train_test_split\n",
    "from keras.utils import to_categorical\n",
    "from keras.models import Sequential, load_model\n",
    "from keras.layers import Conv2D, MaxPool2D, Dense, Flatten, Dropout"
   ]
  },
  {
   "cell_type": "markdown",
   "id": "8ff35b44-b574-4b8f-9737-c59541551e66",
   "metadata": {},
   "source": [
    "# **Store data,labels in the list**"
   ]
  },
  {
   "cell_type": "code",
   "execution_count": 2,
   "id": "55f15258-20f8-4da9-817a-c8fb8732bd7a",
   "metadata": {},
   "outputs": [],
   "source": [
    "data = []\n",
    "labels = []\n",
    "# We have 43 Classes\n",
    "classes = 43\n",
    "cur_path = os.getcwd()"
   ]
  },
  {
   "cell_type": "code",
   "execution_count": 3,
   "id": "2e13307b-a5d1-448b-b705-3f46792df36c",
   "metadata": {},
   "outputs": [
    {
     "data": {
      "text/plain": [
       "'D:\\\\TRAFFIC_SIGN_RECOGNITION'"
      ]
     },
     "execution_count": 3,
     "metadata": {},
     "output_type": "execute_result"
    }
   ],
   "source": [
    "cur_path"
   ]
  },
  {
   "cell_type": "markdown",
   "id": "cf5956e2-a4ab-4f05-b374-6efc5d99ae8a",
   "metadata": {},
   "source": [
    "# **Preprocess the images**"
   ]
  },
  {
   "cell_type": "code",
   "execution_count": 4,
   "id": "b8b4c3fa-c5b0-4e8c-9d99-d381e130a576",
   "metadata": {},
   "outputs": [],
   "source": [
    "for i in range(classes):\n",
    "    path = os.path.join(cur_path,'train',str(i))\n",
    "    images = os.listdir(path)\n",
    "    for a in images:\n",
    "        try:\n",
    "            image = Image.open(path + '\\\\'+ a)\n",
    "            image = image.resize((30,30))\n",
    "            image = np.array(image)\n",
    "            data.append(image)\n",
    "            labels.append(i)\n",
    "        except Exception as e:\n",
    "            print(e)"
   ]
  },
  {
   "cell_type": "markdown",
   "id": "a1dadc68-e6e2-45dd-8b33-eda5cacf05b9",
   "metadata": {},
   "source": [
    "# **Converting List into numpy arrays**"
   ]
  },
  {
   "cell_type": "code",
   "execution_count": 5,
   "id": "4f684a90-803d-4b69-a68f-948d513f20b6",
   "metadata": {},
   "outputs": [],
   "source": [
    "data = np.array(data)\n",
    "labels = np.array(labels)"
   ]
  },
  {
   "cell_type": "markdown",
   "id": "98729aa5-61d3-44f7-bbfd-262fb05c6c27",
   "metadata": {},
   "source": [
    "# **Save Labels & Data for future use**"
   ]
  },
  {
   "cell_type": "code",
   "execution_count": 6,
   "id": "7a1655c2-17f8-42c6-9042-1d3713a90168",
   "metadata": {},
   "outputs": [],
   "source": [
    "\n",
    "# Define the directory path\n",
    "directory_path = './training'\n",
    "\n",
    "# Create the directory if it does not exist\n",
    "os.makedirs(directory_path, exist_ok=True)\n",
    "\n",
    "# Assuming data and labels are your numpy arrays\n",
    "np.save(os.path.join(directory_path, 'data.npy'), data)\n",
    "np.save(os.path.join(directory_path, 'target.npy'), labels)"
   ]
  },
  {
   "cell_type": "markdown",
   "id": "6750e31a",
   "metadata": {},
   "source": [
    "# Load data & labels"
   ]
  },
  {
   "cell_type": "code",
   "execution_count": 7,
   "id": "e37f92d6-ae2e-49e6-a4f9-07a3bf7ceb98",
   "metadata": {},
   "outputs": [],
   "source": [
    "data=np.load('./training/data.npy')\n",
    "labels=np.load('./training/target.npy')"
   ]
  },
  {
   "cell_type": "code",
   "execution_count": 8,
   "id": "b4ac8a13-b38a-42e0-8826-fc733de04153",
   "metadata": {},
   "outputs": [
    {
     "name": "stdout",
     "output_type": "stream",
     "text": [
      "(39209, 30, 30, 3) (39209,)\n"
     ]
    }
   ],
   "source": [
    "print(data.shape, labels.shape)"
   ]
  },
  {
   "cell_type": "code",
   "execution_count": 9,
   "id": "4f49c535-50e5-47ad-806f-bfca5d976f60",
   "metadata": {},
   "outputs": [],
   "source": [
    "X_train, X_test, y_train, y_test = train_test_split(data, labels, test_size=0.2, random_state=0)"
   ]
  },
  {
   "cell_type": "code",
   "execution_count": 10,
   "id": "220ef8da-ada6-49b7-b043-c18463948dff",
   "metadata": {},
   "outputs": [
    {
     "name": "stdout",
     "output_type": "stream",
     "text": [
      "(31367, 30, 30, 3) (7842, 30, 30, 3) (31367,) (7842,)\n"
     ]
    }
   ],
   "source": [
    "print(X_train.shape, X_test.shape, y_train.shape, y_test.shape)"
   ]
  },
  {
   "cell_type": "markdown",
   "id": "ebd8dfc6-c06a-4006-a3da-82d71f085003",
   "metadata": {},
   "source": [
    "# **Convert labels to onehot encoding**"
   ]
  },
  {
   "cell_type": "code",
   "execution_count": 11,
   "id": "b4ea7c15-1d7d-4c25-aad5-054476879915",
   "metadata": {},
   "outputs": [],
   "source": [
    "y_train = to_categorical(y_train, 43)\n",
    "y_test = to_categorical(y_test, 43)"
   ]
  },
  {
   "cell_type": "markdown",
   "id": "d8682516-bc5f-4d81-96c5-50a1e2a4d4c7",
   "metadata": {},
   "source": [
    "# **Build the model**"
   ]
  },
  {
   "cell_type": "code",
   "execution_count": 12,
   "id": "3ff0cf74-4edb-4662-9d79-502646b3412f",
   "metadata": {},
   "outputs": [],
   "source": [
    "model = Sequential()\n",
    "model.add(Conv2D(filters=32, kernel_size=(5,5), activation='relu', input_shape=X_train.shape[1:]))\n",
    "model.add(Conv2D(filters=32, kernel_size=(5,5), activation='relu'))\n",
    "model.add(MaxPool2D(pool_size=(2, 2)))\n",
    "model.add(Dropout(rate=0.25))\n",
    "model.add(Conv2D(filters=64, kernel_size=(3, 3), activation='relu'))\n",
    "model.add(Conv2D(filters=64, kernel_size=(3, 3), activation='relu'))\n",
    "model.add(MaxPool2D(pool_size=(2, 2)))\n",
    "model.add(Dropout(rate=0.25))\n",
    "model.add(Flatten())\n",
    "model.add(Dense(256, activation='relu'))\n",
    "model.add(Dropout(rate=0.5))\n",
    "# We have 43 classes that's why we have defined 43 in the dense\n",
    "model.add(Dense(43, activation='softmax'))"
   ]
  },
  {
   "cell_type": "code",
   "execution_count": 13,
   "id": "9e025c5b-a83a-4d28-b2cf-318d8c6224ce",
   "metadata": {},
   "outputs": [],
   "source": [
    "#Compilation of the model\n",
    "model.compile(loss='categorical_crossentropy', optimizer='adam', metrics=['accuracy'])"
   ]
  },
  {
   "cell_type": "code",
   "execution_count": 14,
   "id": "7c1952cd-7274-4620-b148-c6f6af6c7024",
   "metadata": {},
   "outputs": [
    {
     "name": "stdout",
     "output_type": "stream",
     "text": [
      "Epoch 1/20\n",
      "981/981 [==============================] - 72s 72ms/step - loss: 1.9077 - accuracy: 0.5195 - val_loss: 0.4594 - val_accuracy: 0.8921\n",
      "Epoch 2/20\n",
      "981/981 [==============================] - 86s 88ms/step - loss: 0.6710 - accuracy: 0.8043 - val_loss: 0.2271 - val_accuracy: 0.9433\n",
      "Epoch 3/20\n",
      "981/981 [==============================] - 56s 57ms/step - loss: 0.4707 - accuracy: 0.8603 - val_loss: 0.1600 - val_accuracy: 0.9549\n",
      "Epoch 4/20\n",
      "981/981 [==============================] - 53s 54ms/step - loss: 0.3810 - accuracy: 0.8888 - val_loss: 0.1485 - val_accuracy: 0.9601\n",
      "Epoch 5/20\n",
      "981/981 [==============================] - 44s 45ms/step - loss: 0.3294 - accuracy: 0.9037 - val_loss: 0.1223 - val_accuracy: 0.9665\n",
      "Epoch 6/20\n",
      "981/981 [==============================] - 54s 55ms/step - loss: 0.3017 - accuracy: 0.9124 - val_loss: 0.1055 - val_accuracy: 0.9686\n",
      "Epoch 7/20\n",
      "981/981 [==============================] - 57s 58ms/step - loss: 0.2626 - accuracy: 0.9238 - val_loss: 0.0678 - val_accuracy: 0.9802\n",
      "Epoch 8/20\n",
      "981/981 [==============================] - 47s 48ms/step - loss: 0.2606 - accuracy: 0.9261 - val_loss: 0.0818 - val_accuracy: 0.9764\n",
      "Epoch 9/20\n",
      "981/981 [==============================] - 50s 51ms/step - loss: 0.2407 - accuracy: 0.9323 - val_loss: 0.1499 - val_accuracy: 0.9561\n",
      "Epoch 10/20\n",
      "981/981 [==============================] - 54s 55ms/step - loss: 0.2438 - accuracy: 0.9302 - val_loss: 0.0871 - val_accuracy: 0.9751\n",
      "Epoch 11/20\n",
      "981/981 [==============================] - 51s 52ms/step - loss: 0.2207 - accuracy: 0.9385 - val_loss: 0.0622 - val_accuracy: 0.9828\n",
      "Epoch 12/20\n",
      "981/981 [==============================] - 155s 158ms/step - loss: 0.2236 - accuracy: 0.9389 - val_loss: 0.0649 - val_accuracy: 0.9809\n",
      "Epoch 13/20\n",
      "981/981 [==============================] - 47s 47ms/step - loss: 0.2085 - accuracy: 0.9427 - val_loss: 0.0802 - val_accuracy: 0.9784\n",
      "Epoch 14/20\n",
      "981/981 [==============================] - 53s 54ms/step - loss: 0.2347 - accuracy: 0.9363 - val_loss: 0.0790 - val_accuracy: 0.9777\n",
      "Epoch 15/20\n",
      "981/981 [==============================] - 41s 42ms/step - loss: 0.2224 - accuracy: 0.9405 - val_loss: 0.0644 - val_accuracy: 0.9827\n",
      "Epoch 16/20\n",
      "981/981 [==============================] - 51s 52ms/step - loss: 0.2156 - accuracy: 0.9401 - val_loss: 0.0564 - val_accuracy: 0.9851\n",
      "Epoch 17/20\n",
      "981/981 [==============================] - 51s 52ms/step - loss: 0.1980 - accuracy: 0.9464 - val_loss: 0.0662 - val_accuracy: 0.9807\n",
      "Epoch 18/20\n",
      "981/981 [==============================] - 47s 48ms/step - loss: 0.2201 - accuracy: 0.9414 - val_loss: 0.0741 - val_accuracy: 0.9816\n",
      "Epoch 19/20\n",
      "981/981 [==============================] - 54s 55ms/step - loss: 0.2296 - accuracy: 0.9412 - val_loss: 0.2856 - val_accuracy: 0.9241\n",
      "Epoch 20/20\n",
      "981/981 [==============================] - 63s 64ms/step - loss: 0.2226 - accuracy: 0.9432 - val_loss: 0.0599 - val_accuracy: 0.9846\n"
     ]
    }
   ],
   "source": [
    "epochs = 20\n",
    "history = model.fit(X_train, y_train, batch_size=32, epochs=epochs, validation_data=(X_test, y_test))"
   ]
  },
  {
   "cell_type": "code",
   "execution_count": 15,
   "id": "04ba8d48-76ff-4bfc-baf3-a7cc455a7fc2",
   "metadata": {},
   "outputs": [
    {
     "data": {
      "image/png": "[encoded data removed]",
      "text/plain": [
       "<Figure size 640x480 with 1 Axes>"
      ]
     },
     "metadata": {},
     "output_type": "display_data"
    }
   ],
   "source": [
    "# accuracy \n",
    "plt.figure(0)\n",
    "plt.plot(history.history['accuracy'], label='training accuracy')\n",
    "plt.plot(history.history['val_accuracy'], label='val accuracy')\n",
    "plt.title('Accuracy')\n",
    "plt.xlabel('epochs')\n",
    "plt.ylabel('accuracy')\n",
    "plt.legend()\n",
    "plt.show()"
   ]
  },
  {
   "cell_type": "code",
   "execution_count": 16,
   "id": "d7c955d3-da7c-4cd9-b72f-5d5525bcfc4c",
   "metadata": {},
   "outputs": [
    {
     "data": {
      "image/png": "[encoded data removed]",
      "text/plain": [
       "<Figure size 640x480 with 1 Axes>"
      ]
     },
     "metadata": {},
     "output_type": "display_data"
    }
   ],
   "source": [
    "# Loss\n",
    "plt.plot(history.history['loss'], label='training loss')\n",
    "plt.plot(history.history['val_loss'], label='val loss')\n",
    "plt.title('Loss')\n",
    "plt.xlabel('epochs')\n",
    "plt.ylabel('loss')\n",
    "plt.legend()\n",
    "plt.show()"
   ]
  },
  {
   "cell_type": "markdown",
   "id": "dfa7d5b2-da9a-4a2a-972e-8b5c3b4f0ca6",
   "metadata": {},
   "source": [
    "# **Testing on test data**"
   ]
  },
  {
   "cell_type": "code",
   "execution_count": 17,
   "id": "007fadb7-9088-4f5b-89b8-2f67f66de529",
   "metadata": {},
   "outputs": [],
   "source": [
    "def testing(testcsv):\n",
    "    y_test = pd.read_csv(testcsv)\n",
    "    label = y_test[\"ClassId\"].values\n",
    "    imgs = y_test[\"Path\"].values\n",
    "    data=[]\n",
    "    for img in imgs:\n",
    "        image = Image.open(img)\n",
    "        image = image.resize((30,30))\n",
    "        data.append(np.array(image))\n",
    "    X_test=np.array(data)\n",
    "    return X_test,label"
   ]
  },
  {
   "cell_type": "code",
   "execution_count": 18,
   "id": "9c6688e9-e18e-4bf7-ad58-0a1bc118b374",
   "metadata": {},
   "outputs": [],
   "source": [
    "X_test, label = testing('Test.csv')"
   ]
  },
  {
   "cell_type": "code",
   "execution_count": 20,
   "id": "566ccca7-6e0b-4519-ab1d-38ab8b378cc8",
   "metadata": {},
   "outputs": [
    {
     "name": "stdout",
     "output_type": "stream",
     "text": [
      "395/395 [==============================] - 3s 7ms/step\n"
     ]
    },
    {
     "data": {
      "text/plain": [
       "array([16,  1, 38, ..., 15,  7, 10], dtype=int64)"
      ]
     },
     "execution_count": 20,
     "metadata": {},
     "output_type": "execute_result"
    }
   ],
   "source": [
    "# Get the probabilities for each class\n",
    "probabilities = model.predict(X_test)\n",
    "\n",
    "# Convert probabilities to class labels\n",
    "Y_pred = np.argmax(probabilities, axis=1)\n",
    "\n",
    "# Display the predicted class labels\n",
    "Y_pred"
   ]
  },
  {
   "cell_type": "markdown",
   "id": "1608da11-2e3c-4316-9650-887451e77d79",
   "metadata": {},
   "source": [
    "# **Accuracy with test data**"
   ]
  },
  {
   "cell_type": "code",
   "execution_count": 21,
   "id": "d45f30ae-6f4d-4f88-bd62-a90393a49d3a",
   "metadata": {},
   "outputs": [
    {
     "name": "stdout",
     "output_type": "stream",
     "text": [
      "0.9401425178147268\n"
     ]
    }
   ],
   "source": [
    "from sklearn.metrics import accuracy_score\n",
    "print(accuracy_score(label, Y_pred))"
   ]
  },
  {
   "cell_type": "markdown",
   "id": "f9a0cbaa-ed95-4a1d-bc79-f448e833c85a",
   "metadata": {},
   "source": [
    "# **Save the model**"
   ]
  },
  {
   "cell_type": "code",
   "execution_count": 22,
   "id": "a72155a7-a0e1-4c04-a281-8b965b11e96d",
   "metadata": {},
   "outputs": [],
   "source": [
    "model.save(\"./training/TSR.h5\")"
   ]
  },
  {
   "cell_type": "markdown",
   "id": "ab61dd5d-4e27-48f4-a77f-b6a76fa24636",
   "metadata": {},
   "source": [
    "# **Load the model**"
   ]
  },
  {
   "cell_type": "code",
   "execution_count": 23,
   "id": "e7c4c695-ee3b-40b4-9a7c-c9755a8ef7ab",
   "metadata": {},
   "outputs": [],
   "source": [
    "import os\n",
    "os.chdir(r'D:\\Traffic_Sign_Recognition')\n",
    "from keras.models import load_model\n",
    "model = load_model('./training/TSR.h5')"
   ]
  },
  {
   "cell_type": "code",
   "execution_count": 24,
   "id": "ef3117ed-ce10-4e97-9438-a0fc5d8efefc",
   "metadata": {},
   "outputs": [],
   "source": [
    "# Classes of trafic signs\n",
    "classes = { 0:'Speed limit (20km/h)',\n",
    "            1:'Speed limit (30km/h)', \n",
    "            2:'Speed limit (50km/h)', \n",
    "            3:'Speed limit (60km/h)', \n",
    "            4:'Speed limit (70km/h)', \n",
    "            5:'Speed limit (80km/h)', \n",
    "            6:'End of speed limit (80km/h)', \n",
    "            7:'Speed limit (100km/h)', \n",
    "            8:'Speed limit (120km/h)', \n",
    "            9:'No passing', \n",
    "            10:'No passing veh over 3.5 tons', \n",
    "            11:'Right-of-way at intersection', \n",
    "            12:'Priority road', \n",
    "            13:'Yield', \n",
    "            14:'Stop', \n",
    "            15:'No vehicles', \n",
    "            16:'Veh > 3.5 tons prohibited', \n",
    "            17:'No entry', \n",
    "            18:'General caution', \n",
    "            19:'Dangerous curve left', \n",
    "            20:'Dangerous curve right', \n",
    "            21:'Double curve', \n",
    "            22:'Bumpy road', \n",
    "            23:'Slippery road', \n",
    "            24:'Road narrows on the right', \n",
    "            25:'Road work', \n",
    "            26:'Traffic signals', \n",
    "            27:'Pedestrians', \n",
    "            28:'Children crossing', \n",
    "            29:'Bicycles crossing', \n",
    "            30:'Beware of ice/snow',\n",
    "            31:'Wild animals crossing', \n",
    "            32:'End speed + passing limits', \n",
    "            33:'Turn right ahead', \n",
    "            34:'Turn left ahead', \n",
    "            35:'Ahead only', \n",
    "            36:'Go straight or right', \n",
    "            37:'Go straight or left', \n",
    "            38:'Keep right', \n",
    "            39:'Keep left', \n",
    "            40:'Roundabout mandatory', \n",
    "            41:'End of no passing', \n",
    "            42:'End no passing veh > 3.5 tons' }"
   ]
  },
  {
   "cell_type": "code",
   "execution_count": 25,
   "id": "6a38f877-d1e6-4e51-ad0e-66e8a8052dba",
   "metadata": {},
   "outputs": [
    {
     "name": "stdout",
     "output_type": "stream",
     "text": [
      "1/1 [==============================] - 0s 137ms/step\n",
      "Predicted traffic sign is:  Bumpy road\n"
     ]
    },
    {
     "data": {
      "image/png": "[encoded data removed]",
      "text/plain": [
       "<Figure size 640x480 with 1 Axes>"
      ]
     },
     "metadata": {},
     "output_type": "display_data"
    }
   ],
   "source": [
    "from PIL import Image\n",
    "import numpy as np\n",
    "import matplotlib.pyplot as plt\n",
    "from tensorflow.keras.preprocessing.image import img_to_array\n",
    "\n",
    "def test_on_img(img_path):\n",
    "    # Open and preprocess the image\n",
    "    image = Image.open(img_path)\n",
    "    image = image.resize((30, 30))  # Resize to match model input\n",
    "    image_array = img_to_array(image)  # Convert to numpy array\n",
    "    image_array = np.expand_dims(image_array, axis=0)  # Add batch dimension\n",
    "    \n",
    "    # Predict using the model\n",
    "    probabilities = model.predict(image_array)\n",
    "    Y_pred = np.argmax(probabilities, axis=1)  # Get the index of the highest probability\n",
    "    \n",
    "    return image, Y_pred[0]\n",
    "\n",
    "# Path to the image\n",
    "img_path = r'D:\\Traffic_Sign_Recognition\\Test\\00500.png'\n",
    "plot, prediction = test_on_img(img_path)\n",
    "\n",
    "# Map the prediction to the class label\n",
    "print(\"Predicted traffic sign is: \", classes[prediction])\n",
    "\n",
    "# Display the image\n",
    "plt.imshow(plot)\n",
    "plt.show()"
   ]
  },
  {
   "cell_type": "code",
   "execution_count": null,
   "id": "8c0efb73-f67b-437f-889b-679c34210636",
   "metadata": {},
   "outputs": [],
   "source": []
  }
 ],
 "metadata": {
  "kernelspec": {
   "display_name": "Python 3 (ipykernel)",
   "language": "python",
   "name": "python3"
  },
  "language_info": {
   "codemirror_mode": {
    "name": "ipython",
    "version": 3
   },
   "file_extension": ".py",
   "mimetype": "text/x-python",
   "name": "python",
   "nbconvert_exporter": "python",
   "pygments_lexer": "ipython3",
   "version": "3.11.7"
  }
 },
 "nbformat": 4,
 "nbformat_minor": 5
}
